{
 "cells": [
  {
   "cell_type": "code",
   "execution_count": 1,
   "id": "07e7e34d",
   "metadata": {
    "execution": {
     "iopub.execute_input": "2022-06-28T09:53:01.349898Z",
     "iopub.status.busy": "2022-06-28T09:53:01.349508Z",
     "iopub.status.idle": "2022-06-28T09:53:01.366595Z",
     "shell.execute_reply": "2022-06-28T09:53:01.366002Z"
    }
   },
   "outputs": [
    {
     "name": "stdout",
     "output_type": "stream",
     "text": [
      "/home/runner/work/numpyro-doing-bayesian/numpyro-doing-bayesian\n"
     ]
    }
   ],
   "source": [
    "%cd ..\n",
    "%load_ext autoreload\n",
    "%autoreload 2"
   ]
  },
  {
   "cell_type": "code",
   "execution_count": 2,
   "id": "b9a416f1",
   "metadata": {
    "execution": {
     "iopub.execute_input": "2022-06-28T09:53:01.369362Z",
     "iopub.status.busy": "2022-06-28T09:53:01.369148Z",
     "iopub.status.idle": "2022-06-28T09:53:02.931292Z",
     "shell.execute_reply": "2022-06-28T09:53:02.930705Z"
    }
   },
   "outputs": [],
   "source": [
    "import arviz as az\n",
    "import jax.numpy as jnp\n",
    "import jax.random as random\n",
    "import matplotlib.pyplot as plt\n",
    "import numpy as np\n",
    "import numpyro\n",
    "from numpyro.infer import MCMC, NUTS\n",
    "from numpyro.infer.initialization import init_to_median\n",
    "import numpyro_glm\n",
    "import numpyro_glm.logistic.models as glm_logistic\n",
    "import pandas as pd\n",
    "from scipy.special import expit\n",
    "from scipy.stats import beta\n",
    "import seaborn as sns\n",
    "\n",
    "numpyro.set_host_device_count(4)"
   ]
  },
  {
   "cell_type": "markdown",
   "id": "fa72fbb1",
   "metadata": {},
   "source": [
    "# Chapter 22: Nominal Predicted Variable\n",
    "## Softmax Model"
   ]
  },
  {
   "cell_type": "markdown",
   "id": "8fedc8e0",
   "metadata": {},
   "source": [
    "## Conditional Logistic Model"
   ]
  }
 ],
 "metadata": {
  "jupytext": {
   "formats": "ipynb,py:light"
  },
  "kernelspec": {
   "display_name": "Python 3 (ipykernel)",
   "language": "python",
   "name": "python3"
  },
  "language_info": {
   "codemirror_mode": {
    "name": "ipython",
    "version": 3
   },
   "file_extension": ".py",
   "mimetype": "text/x-python",
   "name": "python",
   "nbconvert_exporter": "python",
   "pygments_lexer": "ipython3",
   "version": "3.7.10"
  }
 },
 "nbformat": 4,
 "nbformat_minor": 5
}
