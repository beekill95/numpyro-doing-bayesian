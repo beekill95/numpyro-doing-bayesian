{
 "cells": [
  {
   "cell_type": "code",
   "execution_count": 1,
   "id": "9c34370c",
   "metadata": {
    "execution": {
     "iopub.execute_input": "2022-06-29T04:00:33.210878Z",
     "iopub.status.busy": "2022-06-29T04:00:33.209808Z",
     "iopub.status.idle": "2022-06-29T04:00:33.231030Z",
     "shell.execute_reply": "2022-06-29T04:00:33.230269Z"
    }
   },
   "outputs": [
    {
     "name": "stdout",
     "output_type": "stream",
     "text": [
      "/home/runner/work/numpyro-doing-bayesian/numpyro-doing-bayesian\n"
     ]
    }
   ],
   "source": [
    "%cd ..\n",
    "%load_ext autoreload\n",
    "%autoreload 2"
   ]
  },
  {
   "cell_type": "code",
   "execution_count": 2,
   "id": "6939eb2b",
   "metadata": {
    "execution": {
     "iopub.execute_input": "2022-06-29T04:00:33.235202Z",
     "iopub.status.busy": "2022-06-29T04:00:33.234622Z",
     "iopub.status.idle": "2022-06-29T04:00:35.233782Z",
     "shell.execute_reply": "2022-06-29T04:00:35.232752Z"
    }
   },
   "outputs": [],
   "source": [
    "import arviz as az\n",
    "import jax.numpy as jnp\n",
    "import jax.random as random\n",
    "import matplotlib.pyplot as plt\n",
    "import numpy as np\n",
    "import numpyro\n",
    "from numpyro.infer import MCMC, NUTS\n",
    "from numpyro.infer.initialization import init_to_median\n",
    "import numpyro_glm\n",
    "import numpyro_glm.logistic.models as glm_logistic\n",
    "import pandas as pd\n",
    "from scipy.special import expit\n",
    "from scipy.stats import beta\n",
    "import seaborn as sns\n",
    "\n",
    "numpyro.set_host_device_count(4)"
   ]
  },
  {
   "cell_type": "markdown",
   "id": "c1b30018",
   "metadata": {},
   "source": [
    "# Chapter 22: Nominal Predicted Variable\n",
    "## Softmax Model"
   ]
  },
  {
   "cell_type": "markdown",
   "id": "0e999d73",
   "metadata": {},
   "source": [
    "## Conditional Logistic Model"
   ]
  }
 ],
 "metadata": {
  "jupytext": {
   "formats": "ipynb,py:light"
  },
  "kernelspec": {
   "display_name": "Python 3 (ipykernel)",
   "language": "python",
   "name": "python3"
  },
  "language_info": {
   "codemirror_mode": {
    "name": "ipython",
    "version": 3
   },
   "file_extension": ".py",
   "mimetype": "text/x-python",
   "name": "python",
   "nbconvert_exporter": "python",
   "pygments_lexer": "ipython3",
   "version": "3.7.10"
  }
 },
 "nbformat": 4,
 "nbformat_minor": 5
}
